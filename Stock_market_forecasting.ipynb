{
 "cells": [
  {
   "cell_type": "markdown",
   "metadata": {},
   "source": [
    "### Stock Market Prediction And Forecasting Using Stacked LSTM"
   ]
  },
  {
   "cell_type": "code",
   "execution_count": 2,
   "metadata": {},
   "outputs": [],
   "source": [
    "### Keras and Tensorflow >2.0"
   ]
  },
  {
   "cell_type": "code",
   "execution_count": 93,
   "metadata": {},
   "outputs": [],
   "source": [
    "df.to_csv('AAPL.csv')"
   ]
  },
  {
   "cell_type": "code",
   "execution_count": 94,
   "metadata": {},
   "outputs": [],
   "source": [
    "import pandas as pd"
   ]
  },
  {
   "cell_type": "code",
   "execution_count": 95,
   "metadata": {},
   "outputs": [],
   "source": [
    "df=pd.read_csv('AAPL.csv')"
   ]
  },
  {
   "cell_type": "code",
   "execution_count": 96,
   "metadata": {},
   "outputs": [
    {
     "data": {
      "text/html": [
       "<div>\n",
       "<style scoped>\n",
       "    .dataframe tbody tr th:only-of-type {\n",
       "        vertical-align: middle;\n",
       "    }\n",
       "\n",
       "    .dataframe tbody tr th {\n",
       "        vertical-align: top;\n",
       "    }\n",
       "\n",
       "    .dataframe thead th {\n",
       "        text-align: right;\n",
       "    }\n",
       "</style>\n",
       "<table border=\"1\" class=\"dataframe\">\n",
       "  <thead>\n",
       "    <tr style=\"text-align: right;\">\n",
       "      <th></th>\n",
       "      <th>Unnamed: 0</th>\n",
       "      <th>Unnamed: 0.1</th>\n",
       "      <th>symbol</th>\n",
       "      <th>date</th>\n",
       "      <th>close</th>\n",
       "      <th>high</th>\n",
       "      <th>low</th>\n",
       "      <th>open</th>\n",
       "      <th>volume</th>\n",
       "      <th>adjClose</th>\n",
       "      <th>adjHigh</th>\n",
       "      <th>adjLow</th>\n",
       "      <th>adjOpen</th>\n",
       "      <th>adjVolume</th>\n",
       "      <th>divCash</th>\n",
       "      <th>splitFactor</th>\n",
       "    </tr>\n",
       "  </thead>\n",
       "  <tbody>\n",
       "    <tr>\n",
       "      <th>0</th>\n",
       "      <td>0</td>\n",
       "      <td>0</td>\n",
       "      <td>AAPL</td>\n",
       "      <td>2015-05-27 00:00:00+00:00</td>\n",
       "      <td>132.045</td>\n",
       "      <td>132.260</td>\n",
       "      <td>130.05</td>\n",
       "      <td>130.34</td>\n",
       "      <td>45833246</td>\n",
       "      <td>121.682558</td>\n",
       "      <td>121.880685</td>\n",
       "      <td>119.844118</td>\n",
       "      <td>120.111360</td>\n",
       "      <td>45833246</td>\n",
       "      <td>0.0</td>\n",
       "      <td>1.0</td>\n",
       "    </tr>\n",
       "    <tr>\n",
       "      <th>1</th>\n",
       "      <td>1</td>\n",
       "      <td>1</td>\n",
       "      <td>AAPL</td>\n",
       "      <td>2015-05-28 00:00:00+00:00</td>\n",
       "      <td>131.780</td>\n",
       "      <td>131.950</td>\n",
       "      <td>131.10</td>\n",
       "      <td>131.86</td>\n",
       "      <td>30733309</td>\n",
       "      <td>121.438354</td>\n",
       "      <td>121.595013</td>\n",
       "      <td>120.811718</td>\n",
       "      <td>121.512076</td>\n",
       "      <td>30733309</td>\n",
       "      <td>0.0</td>\n",
       "      <td>1.0</td>\n",
       "    </tr>\n",
       "    <tr>\n",
       "      <th>2</th>\n",
       "      <td>2</td>\n",
       "      <td>2</td>\n",
       "      <td>AAPL</td>\n",
       "      <td>2015-05-29 00:00:00+00:00</td>\n",
       "      <td>130.280</td>\n",
       "      <td>131.450</td>\n",
       "      <td>129.90</td>\n",
       "      <td>131.23</td>\n",
       "      <td>50884452</td>\n",
       "      <td>120.056069</td>\n",
       "      <td>121.134251</td>\n",
       "      <td>119.705890</td>\n",
       "      <td>120.931516</td>\n",
       "      <td>50884452</td>\n",
       "      <td>0.0</td>\n",
       "      <td>1.0</td>\n",
       "    </tr>\n",
       "    <tr>\n",
       "      <th>3</th>\n",
       "      <td>3</td>\n",
       "      <td>3</td>\n",
       "      <td>AAPL</td>\n",
       "      <td>2015-06-01 00:00:00+00:00</td>\n",
       "      <td>130.535</td>\n",
       "      <td>131.390</td>\n",
       "      <td>130.05</td>\n",
       "      <td>131.20</td>\n",
       "      <td>32112797</td>\n",
       "      <td>120.291057</td>\n",
       "      <td>121.078960</td>\n",
       "      <td>119.844118</td>\n",
       "      <td>120.903870</td>\n",
       "      <td>32112797</td>\n",
       "      <td>0.0</td>\n",
       "      <td>1.0</td>\n",
       "    </tr>\n",
       "    <tr>\n",
       "      <th>4</th>\n",
       "      <td>4</td>\n",
       "      <td>4</td>\n",
       "      <td>AAPL</td>\n",
       "      <td>2015-06-02 00:00:00+00:00</td>\n",
       "      <td>129.960</td>\n",
       "      <td>130.655</td>\n",
       "      <td>129.32</td>\n",
       "      <td>129.86</td>\n",
       "      <td>33667627</td>\n",
       "      <td>119.761181</td>\n",
       "      <td>120.401640</td>\n",
       "      <td>119.171406</td>\n",
       "      <td>119.669029</td>\n",
       "      <td>33667627</td>\n",
       "      <td>0.0</td>\n",
       "      <td>1.0</td>\n",
       "    </tr>\n",
       "  </tbody>\n",
       "</table>\n",
       "</div>"
      ],
      "text/plain": [
       "   Unnamed: 0  Unnamed: 0.1 symbol                       date    close  \\\n",
       "0           0             0   AAPL  2015-05-27 00:00:00+00:00  132.045   \n",
       "1           1             1   AAPL  2015-05-28 00:00:00+00:00  131.780   \n",
       "2           2             2   AAPL  2015-05-29 00:00:00+00:00  130.280   \n",
       "3           3             3   AAPL  2015-06-01 00:00:00+00:00  130.535   \n",
       "4           4             4   AAPL  2015-06-02 00:00:00+00:00  129.960   \n",
       "\n",
       "      high     low    open    volume    adjClose     adjHigh      adjLow  \\\n",
       "0  132.260  130.05  130.34  45833246  121.682558  121.880685  119.844118   \n",
       "1  131.950  131.10  131.86  30733309  121.438354  121.595013  120.811718   \n",
       "2  131.450  129.90  131.23  50884452  120.056069  121.134251  119.705890   \n",
       "3  131.390  130.05  131.20  32112797  120.291057  121.078960  119.844118   \n",
       "4  130.655  129.32  129.86  33667627  119.761181  120.401640  119.171406   \n",
       "\n",
       "      adjOpen  adjVolume  divCash  splitFactor  \n",
       "0  120.111360   45833246      0.0          1.0  \n",
       "1  121.512076   30733309      0.0          1.0  \n",
       "2  120.931516   50884452      0.0          1.0  \n",
       "3  120.903870   32112797      0.0          1.0  \n",
       "4  119.669029   33667627      0.0          1.0  "
      ]
     },
     "execution_count": 96,
     "metadata": {},
     "output_type": "execute_result"
    }
   ],
   "source": [
    "df.head()"
   ]
  },
  {
   "cell_type": "code",
   "execution_count": 99,
   "metadata": {},
   "outputs": [
    {
     "data": {
      "text/html": [
       "<div>\n",
       "<style scoped>\n",
       "    .dataframe tbody tr th:only-of-type {\n",
       "        vertical-align: middle;\n",
       "    }\n",
       "\n",
       "    .dataframe tbody tr th {\n",
       "        vertical-align: top;\n",
       "    }\n",
       "\n",
       "    .dataframe thead th {\n",
       "        text-align: right;\n",
       "    }\n",
       "</style>\n",
       "<table border=\"1\" class=\"dataframe\">\n",
       "  <thead>\n",
       "    <tr style=\"text-align: right;\">\n",
       "      <th></th>\n",
       "      <th>Unnamed: 0</th>\n",
       "      <th>Unnamed: 0.1</th>\n",
       "      <th>symbol</th>\n",
       "      <th>date</th>\n",
       "      <th>close</th>\n",
       "      <th>high</th>\n",
       "      <th>low</th>\n",
       "      <th>open</th>\n",
       "      <th>volume</th>\n",
       "      <th>adjClose</th>\n",
       "      <th>adjHigh</th>\n",
       "      <th>adjLow</th>\n",
       "      <th>adjOpen</th>\n",
       "      <th>adjVolume</th>\n",
       "      <th>divCash</th>\n",
       "      <th>splitFactor</th>\n",
       "    </tr>\n",
       "  </thead>\n",
       "  <tbody>\n",
       "    <tr>\n",
       "      <th>1253</th>\n",
       "      <td>1253</td>\n",
       "      <td>1253</td>\n",
       "      <td>AAPL</td>\n",
       "      <td>2020-05-18 00:00:00+00:00</td>\n",
       "      <td>314.96</td>\n",
       "      <td>316.50</td>\n",
       "      <td>310.3241</td>\n",
       "      <td>313.17</td>\n",
       "      <td>33843125</td>\n",
       "      <td>314.96</td>\n",
       "      <td>316.50</td>\n",
       "      <td>310.3241</td>\n",
       "      <td>313.17</td>\n",
       "      <td>33843125</td>\n",
       "      <td>0.0</td>\n",
       "      <td>1.0</td>\n",
       "    </tr>\n",
       "    <tr>\n",
       "      <th>1254</th>\n",
       "      <td>1254</td>\n",
       "      <td>1254</td>\n",
       "      <td>AAPL</td>\n",
       "      <td>2020-05-19 00:00:00+00:00</td>\n",
       "      <td>313.14</td>\n",
       "      <td>318.52</td>\n",
       "      <td>313.0100</td>\n",
       "      <td>315.03</td>\n",
       "      <td>25432385</td>\n",
       "      <td>313.14</td>\n",
       "      <td>318.52</td>\n",
       "      <td>313.0100</td>\n",
       "      <td>315.03</td>\n",
       "      <td>25432385</td>\n",
       "      <td>0.0</td>\n",
       "      <td>1.0</td>\n",
       "    </tr>\n",
       "    <tr>\n",
       "      <th>1255</th>\n",
       "      <td>1255</td>\n",
       "      <td>1255</td>\n",
       "      <td>AAPL</td>\n",
       "      <td>2020-05-20 00:00:00+00:00</td>\n",
       "      <td>319.23</td>\n",
       "      <td>319.52</td>\n",
       "      <td>316.2000</td>\n",
       "      <td>316.68</td>\n",
       "      <td>27876215</td>\n",
       "      <td>319.23</td>\n",
       "      <td>319.52</td>\n",
       "      <td>316.2000</td>\n",
       "      <td>316.68</td>\n",
       "      <td>27876215</td>\n",
       "      <td>0.0</td>\n",
       "      <td>1.0</td>\n",
       "    </tr>\n",
       "    <tr>\n",
       "      <th>1256</th>\n",
       "      <td>1256</td>\n",
       "      <td>1256</td>\n",
       "      <td>AAPL</td>\n",
       "      <td>2020-05-21 00:00:00+00:00</td>\n",
       "      <td>316.85</td>\n",
       "      <td>320.89</td>\n",
       "      <td>315.8700</td>\n",
       "      <td>318.66</td>\n",
       "      <td>25672211</td>\n",
       "      <td>316.85</td>\n",
       "      <td>320.89</td>\n",
       "      <td>315.8700</td>\n",
       "      <td>318.66</td>\n",
       "      <td>25672211</td>\n",
       "      <td>0.0</td>\n",
       "      <td>1.0</td>\n",
       "    </tr>\n",
       "    <tr>\n",
       "      <th>1257</th>\n",
       "      <td>1257</td>\n",
       "      <td>1257</td>\n",
       "      <td>AAPL</td>\n",
       "      <td>2020-05-22 00:00:00+00:00</td>\n",
       "      <td>318.89</td>\n",
       "      <td>319.23</td>\n",
       "      <td>315.3500</td>\n",
       "      <td>315.77</td>\n",
       "      <td>20450754</td>\n",
       "      <td>318.89</td>\n",
       "      <td>319.23</td>\n",
       "      <td>315.3500</td>\n",
       "      <td>315.77</td>\n",
       "      <td>20450754</td>\n",
       "      <td>0.0</td>\n",
       "      <td>1.0</td>\n",
       "    </tr>\n",
       "  </tbody>\n",
       "</table>\n",
       "</div>"
      ],
      "text/plain": [
       "      Unnamed: 0  Unnamed: 0.1 symbol                       date   close  \\\n",
       "1253        1253          1253   AAPL  2020-05-18 00:00:00+00:00  314.96   \n",
       "1254        1254          1254   AAPL  2020-05-19 00:00:00+00:00  313.14   \n",
       "1255        1255          1255   AAPL  2020-05-20 00:00:00+00:00  319.23   \n",
       "1256        1256          1256   AAPL  2020-05-21 00:00:00+00:00  316.85   \n",
       "1257        1257          1257   AAPL  2020-05-22 00:00:00+00:00  318.89   \n",
       "\n",
       "        high       low    open    volume  adjClose  adjHigh    adjLow  \\\n",
       "1253  316.50  310.3241  313.17  33843125    314.96   316.50  310.3241   \n",
       "1254  318.52  313.0100  315.03  25432385    313.14   318.52  313.0100   \n",
       "1255  319.52  316.2000  316.68  27876215    319.23   319.52  316.2000   \n",
       "1256  320.89  315.8700  318.66  25672211    316.85   320.89  315.8700   \n",
       "1257  319.23  315.3500  315.77  20450754    318.89   319.23  315.3500   \n",
       "\n",
       "      adjOpen  adjVolume  divCash  splitFactor  \n",
       "1253   313.17   33843125      0.0          1.0  \n",
       "1254   315.03   25432385      0.0          1.0  \n",
       "1255   316.68   27876215      0.0          1.0  \n",
       "1256   318.66   25672211      0.0          1.0  \n",
       "1257   315.77   20450754      0.0          1.0  "
      ]
     },
     "execution_count": 99,
     "metadata": {},
     "output_type": "execute_result"
    }
   ],
   "source": [
    "df.tail()"
   ]
  },
  {
   "cell_type": "code",
   "execution_count": 100,
   "metadata": {},
   "outputs": [],
   "source": [
    "df1=df.reset_index()['close']"
   ]
  },
  {
   "cell_type": "code",
   "execution_count": 101,
   "metadata": {},
   "outputs": [
    {
     "data": {
      "text/plain": [
       "0    132.045\n",
       "1    131.780\n",
       "2    130.280\n",
       "3    130.535\n",
       "4    129.960\n",
       "Name: close, dtype: float64"
      ]
     },
     "execution_count": 101,
     "metadata": {},
     "output_type": "execute_result"
    }
   ],
   "source": [
    "df1.head()"
   ]
  },
  {
   "cell_type": "code",
   "execution_count": 102,
   "metadata": {},
   "outputs": [
    {
     "data": {
      "text/plain": [
       "[<matplotlib.lines.Line2D at 0x1d41dc1ba00>]"
      ]
     },
     "execution_count": 102,
     "metadata": {},
     "output_type": "execute_result"
    },
    {
     "data": {
      "image/png": "[encoded data removed]",
      "text/plain": [
       "<Figure size 432x288 with 1 Axes>"
      ]
     },
     "metadata": {
      "needs_background": "light"
     },
     "output_type": "display_data"
    }
   ],
   "source": [
    "import matplotlib.pyplot as plt\n",
    "plt.plot(df1)"
   ]
  },
  {
   "cell_type": "code",
   "execution_count": 103,
   "metadata": {},
   "outputs": [],
   "source": [
    "### LSTM are sensitive to the scale of the data. so we apply MinMax scaler "
   ]
  },
  {
   "cell_type": "code",
   "execution_count": 104,
   "metadata": {},
   "outputs": [],
   "source": [
    "import numpy as np"
   ]
  },
  {
   "cell_type": "code",
   "execution_count": 105,
   "metadata": {},
   "outputs": [
    {
     "data": {
      "text/plain": [
       "0    132.045\n",
       "1    131.780\n",
       "2    130.280\n",
       "3    130.535\n",
       "4    129.960\n",
       "Name: close, dtype: float64"
      ]
     },
     "execution_count": 105,
     "metadata": {},
     "output_type": "execute_result"
    }
   ],
   "source": [
    "df1.head()"
   ]
  },
  {
   "cell_type": "code",
   "execution_count": 106,
   "metadata": {},
   "outputs": [],
   "source": [
    "from sklearn.preprocessing import MinMaxScaler\n",
    "scaler=MinMaxScaler(feature_range=(0,1))\n",
    "df1=scaler.fit_transform(np.array(df1).reshape(-1,1))"
   ]
  },
  {
   "cell_type": "code",
   "execution_count": 52,
   "metadata": {},
   "outputs": [
    {
     "name": "stdout",
     "output_type": "stream",
     "text": [
      "[[0.17607447]\n",
      " [0.17495567]\n",
      " [0.16862282]\n",
      " ...\n",
      " [0.96635143]\n",
      " [0.9563033 ]\n",
      " [0.96491598]]\n"
     ]
    }
   ],
   "source": [
    "print(df1)"
   ]
  },
  {
   "cell_type": "code",
   "execution_count": 107,
   "metadata": {},
   "outputs": [],
   "source": [
    "##splitting dataset into train and test split\n",
    "training_size=int(len(df1)*0.65)\n",
    "test_size=len(df1)-training_size\n",
    "train_data,test_data=df1[0:training_size,:],df1[training_size:len(df1),:1]"
   ]
  },
  {
   "cell_type": "code",
   "execution_count": 108,
   "metadata": {},
   "outputs": [
    {
     "data": {
      "text/plain": [
       "(817, 441)"
      ]
     },
     "execution_count": 108,
     "metadata": {},
     "output_type": "execute_result"
    }
   ],
   "source": [
    "training_size,test_size"
   ]
  },
  {
   "cell_type": "code",
   "execution_count": 110,
   "metadata": {},
   "outputs": [],
   "source": [
    "import numpy\n",
    "# convert an array of values into a dataset matrix\n",
    "def create_dataset(dataset, time_step=1):\n",
    "\tdataX, dataY = [], []\n",
    "\tfor i in range(len(dataset)-time_step-1):\n",
    "\t\ta = dataset[i:(i+time_step), 0]   ###i=0, 0,1,2,3-----99   100 \n",
    "\t\tdataX.append(a)\n",
    "\t\tdataY.append(dataset[i + time_step, 0])\n",
    "\treturn numpy.array(dataX), numpy.array(dataY)"
   ]
  },
  {
   "cell_type": "code",
   "execution_count": 111,
   "metadata": {},
   "outputs": [],
   "source": [
    "# reshape into X=t,t+1,t+2,t+3 and Y=t+4\n",
    "time_step = 100\n",
    "X_train, y_train = create_dataset(train_data, time_step)\n",
    "X_test, ytest = create_dataset(test_data, time_step)"
   ]
  },
  {
   "cell_type": "code",
   "execution_count": 112,
   "metadata": {},
   "outputs": [
    {
     "name": "stdout",
     "output_type": "stream",
     "text": [
      "(716, 100)\n",
      "(716,)\n"
     ]
    },
    {
     "data": {
      "text/plain": [
       "(None, None)"
      ]
     },
     "execution_count": 112,
     "metadata": {},
     "output_type": "execute_result"
    }
   ],
   "source": [
    "print(X_train.shape), print(y_train.shape)"
   ]
  },
  {
   "cell_type": "code",
   "execution_count": 113,
   "metadata": {},
   "outputs": [
    {
     "name": "stdout",
     "output_type": "stream",
     "text": [
      "(340, 100)\n",
      "(340,)\n"
     ]
    },
    {
     "data": {
      "text/plain": [
       "(None, None)"
      ]
     },
     "execution_count": 113,
     "metadata": {},
     "output_type": "execute_result"
    }
   ],
   "source": [
    "print(X_test.shape), print(ytest.shape)"
   ]
  },
  {
   "cell_type": "code",
   "execution_count": 114,
   "metadata": {},
   "outputs": [],
   "source": [
    "# reshape input to be [samples, time steps, features] which is required for LSTM\n",
    "X_train =X_train.reshape(X_train.shape[0],X_train.shape[1] , 1)\n",
    "X_test = X_test.reshape(X_test.shape[0],X_test.shape[1] , 1)"
   ]
  },
  {
   "cell_type": "code",
   "execution_count": 115,
   "metadata": {},
   "outputs": [],
   "source": [
    "### Create the Stacked LSTM model\n",
    "from tensorflow.keras.models import Sequential\n",
    "from tensorflow.keras.layers import Dense\n",
    "from tensorflow.keras.layers import LSTM"
   ]
  },
  {
   "cell_type": "code",
   "execution_count": 116,
   "metadata": {},
   "outputs": [],
   "source": [
    "model=Sequential()\n",
    "model.add(LSTM(50,return_sequences=True,input_shape=(100,1)))\n",
    "model.add(LSTM(50,return_sequences=True))\n",
    "model.add(LSTM(50))\n",
    "model.add(Dense(1))\n",
    "model.compile(loss='mean_squared_error',optimizer='adam')\n"
   ]
  },
  {
   "cell_type": "code",
   "execution_count": 117,
   "metadata": {},
   "outputs": [
    {
     "name": "stdout",
     "output_type": "stream",
     "text": [
      "Model: \"sequential_1\"\n",
      "_________________________________________________________________\n",
      "Layer (type)                 Output Shape              Param #   \n",
      "=================================================================\n",
      "lstm_3 (LSTM)                (None, 100, 50)           10400     \n",
      "_________________________________________________________________\n",
      "lstm_4 (LSTM)                (None, 100, 50)           20200     \n",
      "_________________________________________________________________\n",
      "lstm_5 (LSTM)                (None, 50)                20200     \n",
      "_________________________________________________________________\n",
      "dense_1 (Dense)              (None, 1)                 51        \n",
      "=================================================================\n",
      "Total params: 50,851\n",
      "Trainable params: 50,851\n",
      "Non-trainable params: 0\n",
      "_________________________________________________________________\n"
     ]
    }
   ],
   "source": [
    "model.summary()"
   ]
  },
  {
   "cell_type": "code",
   "execution_count": 118,
   "metadata": {},
   "outputs": [
    {
     "name": "stdout",
     "output_type": "stream",
     "text": [
      "Epoch 1/100\n",
      "12/12 [==============================] - 8s 276ms/step - loss: 0.0202 - val_loss: 0.0630\n",
      "Epoch 2/100\n",
      "12/12 [==============================] - 2s 154ms/step - loss: 0.0040 - val_loss: 0.0044\n",
      "Epoch 3/100\n",
      "12/12 [==============================] - 2s 168ms/step - loss: 0.0012 - val_loss: 0.0071\n",
      "Epoch 4/100\n",
      "12/12 [==============================] - 2s 182ms/step - loss: 8.0556e-04 - val_loss: 0.0040\n",
      "Epoch 5/100\n",
      "12/12 [==============================] - 2s 155ms/step - loss: 7.2873e-04 - val_loss: 0.0040\n",
      "Epoch 6/100\n",
      "12/12 [==============================] - 2s 173ms/step - loss: 7.3034e-04 - val_loss: 0.0041\n",
      "Epoch 7/100\n",
      "12/12 [==============================] - 2s 162ms/step - loss: 6.6957e-04 - val_loss: 0.0038\n",
      "Epoch 8/100\n",
      "12/12 [==============================] - 2s 172ms/step - loss: 6.7102e-04 - val_loss: 0.0038\n",
      "Epoch 9/100\n",
      "12/12 [==============================] - 2s 164ms/step - loss: 6.6324e-04 - val_loss: 0.0038\n",
      "Epoch 10/100\n",
      "12/12 [==============================] - 2s 157ms/step - loss: 6.1772e-04 - val_loss: 0.0037\n",
      "Epoch 11/100\n",
      "12/12 [==============================] - 2s 154ms/step - loss: 6.1562e-04 - val_loss: 0.0036\n",
      "Epoch 12/100\n",
      "12/12 [==============================] - 2s 160ms/step - loss: 5.9181e-04 - val_loss: 0.0034\n",
      "Epoch 13/100\n",
      "12/12 [==============================] - 2s 183ms/step - loss: 6.2278e-04 - val_loss: 0.0034\n",
      "Epoch 14/100\n",
      "12/12 [==============================] - 2s 183ms/step - loss: 5.7330e-04 - val_loss: 0.0041\n",
      "Epoch 15/100\n",
      "12/12 [==============================] - 2s 159ms/step - loss: 5.7730e-04 - val_loss: 0.0034\n",
      "Epoch 16/100\n",
      "12/12 [==============================] - 2s 162ms/step - loss: 5.4966e-04 - val_loss: 0.0033\n",
      "Epoch 17/100\n",
      "12/12 [==============================] - 2s 158ms/step - loss: 5.4491e-04 - val_loss: 0.0033\n",
      "Epoch 18/100\n",
      "12/12 [==============================] - 2s 152ms/step - loss: 5.8336e-04 - val_loss: 0.0040\n",
      "Epoch 19/100\n",
      "12/12 [==============================] - 2s 151ms/step - loss: 5.6896e-04 - val_loss: 0.0030\n",
      "Epoch 20/100\n",
      "12/12 [==============================] - 2s 153ms/step - loss: 5.3762e-04 - val_loss: 0.0029\n",
      "Epoch 21/100\n",
      "12/12 [==============================] - 2s 157ms/step - loss: 5.2633e-04 - val_loss: 0.0036\n",
      "Epoch 22/100\n",
      "12/12 [==============================] - 2s 170ms/step - loss: 5.1172e-04 - val_loss: 0.0033\n",
      "Epoch 23/100\n",
      "12/12 [==============================] - 2s 175ms/step - loss: 5.2181e-04 - val_loss: 0.0031\n",
      "Epoch 24/100\n",
      "12/12 [==============================] - 2s 155ms/step - loss: 5.9204e-04 - val_loss: 0.0029\n",
      "Epoch 25/100\n",
      "12/12 [==============================] - 2s 150ms/step - loss: 5.1011e-04 - val_loss: 0.0025\n",
      "Epoch 26/100\n",
      "12/12 [==============================] - 2s 152ms/step - loss: 4.7486e-04 - val_loss: 0.0032\n",
      "Epoch 27/100\n",
      "12/12 [==============================] - 2s 159ms/step - loss: 4.8805e-04 - val_loss: 0.0024\n",
      "Epoch 28/100\n",
      "12/12 [==============================] - 2s 172ms/step - loss: 4.6602e-04 - val_loss: 0.0024\n",
      "Epoch 29/100\n",
      "12/12 [==============================] - 2s 157ms/step - loss: 4.7177e-04 - val_loss: 0.0022\n",
      "Epoch 30/100\n",
      "12/12 [==============================] - 2s 176ms/step - loss: 4.4682e-04 - val_loss: 0.0022\n",
      "Epoch 31/100\n",
      "12/12 [==============================] - 2s 155ms/step - loss: 4.8922e-04 - val_loss: 0.0022\n",
      "Epoch 32/100\n",
      "12/12 [==============================] - 2s 157ms/step - loss: 4.4144e-04 - val_loss: 0.0025\n",
      "Epoch 33/100\n",
      "12/12 [==============================] - 2s 155ms/step - loss: 4.5155e-04 - val_loss: 0.0020\n",
      "Epoch 34/100\n",
      "12/12 [==============================] - 2s 153ms/step - loss: 4.1665e-04 - val_loss: 0.0019\n",
      "Epoch 35/100\n",
      "12/12 [==============================] - 2s 157ms/step - loss: 4.2888e-04 - val_loss: 0.0025\n",
      "Epoch 36/100\n",
      "12/12 [==============================] - 2s 157ms/step - loss: 4.8367e-04 - val_loss: 0.0022\n",
      "Epoch 37/100\n",
      "12/12 [==============================] - 2s 156ms/step - loss: 4.8382e-04 - val_loss: 0.0026\n",
      "Epoch 38/100\n",
      "12/12 [==============================] - 2s 159ms/step - loss: 4.1428e-04 - val_loss: 0.0018\n",
      "Epoch 39/100\n",
      "12/12 [==============================] - 2s 149ms/step - loss: 3.8459e-04 - val_loss: 0.0017\n",
      "Epoch 40/100\n",
      "12/12 [==============================] - 2s 151ms/step - loss: 3.8436e-04 - val_loss: 0.0018\n",
      "Epoch 41/100\n",
      "12/12 [==============================] - 2s 153ms/step - loss: 4.0552e-04 - val_loss: 0.0016\n",
      "Epoch 42/100\n",
      "12/12 [==============================] - 2s 151ms/step - loss: 4.1329e-04 - val_loss: 0.0019\n",
      "Epoch 43/100\n",
      "12/12 [==============================] - 2s 150ms/step - loss: 3.7890e-04 - val_loss: 0.0016\n",
      "Epoch 44/100\n",
      "12/12 [==============================] - 2s 151ms/step - loss: 3.8066e-04 - val_loss: 0.0019\n",
      "Epoch 45/100\n",
      "12/12 [==============================] - 2s 151ms/step - loss: 3.8570e-04 - val_loss: 0.0021\n",
      "Epoch 46/100\n",
      "12/12 [==============================] - 2s 160ms/step - loss: 3.5701e-04 - val_loss: 0.0016\n",
      "Epoch 47/100\n",
      "12/12 [==============================] - 2s 152ms/step - loss: 3.5393e-04 - val_loss: 0.0016\n",
      "Epoch 48/100\n",
      "12/12 [==============================] - 2s 155ms/step - loss: 3.4683e-04 - val_loss: 0.0016\n",
      "Epoch 49/100\n",
      "12/12 [==============================] - 2s 164ms/step - loss: 3.9396e-04 - val_loss: 0.0015\n",
      "Epoch 50/100\n",
      "12/12 [==============================] - 2s 165ms/step - loss: 3.4563e-04 - val_loss: 0.0019\n",
      "Epoch 51/100\n",
      "12/12 [==============================] - 2s 164ms/step - loss: 3.6155e-04 - val_loss: 0.0014\n",
      "Epoch 52/100\n",
      "12/12 [==============================] - 2s 158ms/step - loss: 3.4813e-04 - val_loss: 0.0020\n",
      "Epoch 53/100\n",
      "12/12 [==============================] - 2s 164ms/step - loss: 3.3052e-04 - val_loss: 0.0014\n",
      "Epoch 54/100\n",
      "12/12 [==============================] - 2s 175ms/step - loss: 3.1537e-04 - val_loss: 0.0014\n",
      "Epoch 55/100\n",
      "12/12 [==============================] - 2s 156ms/step - loss: 3.1987e-04 - val_loss: 0.0015\n",
      "Epoch 56/100\n",
      "12/12 [==============================] - 2s 175ms/step - loss: 3.0964e-04 - val_loss: 0.0014\n",
      "Epoch 57/100\n",
      "12/12 [==============================] - 2s 154ms/step - loss: 3.0271e-04 - val_loss: 0.0014\n",
      "Epoch 58/100\n",
      "12/12 [==============================] - 2s 154ms/step - loss: 2.9250e-04 - val_loss: 0.0016\n",
      "Epoch 59/100\n",
      "12/12 [==============================] - 2s 158ms/step - loss: 2.9859e-04 - val_loss: 0.0014\n",
      "Epoch 60/100\n",
      "12/12 [==============================] - 2s 156ms/step - loss: 3.1651e-04 - val_loss: 0.0024\n",
      "Epoch 61/100\n",
      "12/12 [==============================] - 2s 154ms/step - loss: 3.2519e-04 - val_loss: 0.0013\n",
      "Epoch 62/100\n",
      "12/12 [==============================] - 2s 157ms/step - loss: 2.8871e-04 - val_loss: 0.0023\n",
      "Epoch 63/100\n",
      "12/12 [==============================] - 2s 149ms/step - loss: 2.9462e-04 - val_loss: 0.0014\n",
      "Epoch 64/100\n",
      "12/12 [==============================] - 2s 154ms/step - loss: 2.6963e-04 - val_loss: 0.0017\n",
      "Epoch 65/100\n",
      "12/12 [==============================] - 2s 149ms/step - loss: 2.7530e-04 - val_loss: 0.0020\n",
      "Epoch 66/100\n",
      "12/12 [==============================] - 2s 154ms/step - loss: 3.0079e-04 - val_loss: 0.0012\n",
      "Epoch 67/100\n",
      "12/12 [==============================] - 2s 166ms/step - loss: 2.8006e-04 - val_loss: 0.0014\n",
      "Epoch 68/100\n",
      "12/12 [==============================] - 2s 159ms/step - loss: 2.5431e-04 - val_loss: 0.0015\n",
      "Epoch 69/100\n",
      "12/12 [==============================] - 2s 152ms/step - loss: 2.4695e-04 - val_loss: 0.0014\n",
      "Epoch 70/100\n",
      "12/12 [==============================] - 2s 159ms/step - loss: 2.5485e-04 - val_loss: 0.0013\n",
      "Epoch 71/100\n",
      "12/12 [==============================] - 2s 156ms/step - loss: 2.3781e-04 - val_loss: 0.0012\n",
      "Epoch 72/100\n",
      "12/12 [==============================] - 2s 155ms/step - loss: 2.6810e-04 - val_loss: 0.0024\n",
      "Epoch 73/100\n",
      "12/12 [==============================] - 2s 154ms/step - loss: 2.8432e-04 - val_loss: 0.0015\n",
      "Epoch 74/100\n",
      "12/12 [==============================] - 2s 156ms/step - loss: 2.6500e-04 - val_loss: 0.0012\n",
      "Epoch 75/100\n",
      "12/12 [==============================] - 2s 157ms/step - loss: 2.8877e-04 - val_loss: 0.0016\n",
      "Epoch 76/100\n",
      "12/12 [==============================] - 2s 160ms/step - loss: 2.6077e-04 - val_loss: 0.0015\n",
      "Epoch 77/100\n",
      "12/12 [==============================] - 2s 159ms/step - loss: 2.2378e-04 - val_loss: 0.0015\n",
      "Epoch 78/100\n"
     ]
    },
    {
     "name": "stdout",
     "output_type": "stream",
     "text": [
      "12/12 [==============================] - 2s 163ms/step - loss: 2.1765e-04 - val_loss: 0.0014\n",
      "Epoch 79/100\n",
      "12/12 [==============================] - 2s 156ms/step - loss: 2.1139e-04 - val_loss: 0.0014\n",
      "Epoch 80/100\n",
      "12/12 [==============================] - 2s 158ms/step - loss: 2.2147e-04 - val_loss: 0.0012\n",
      "Epoch 81/100\n",
      "12/12 [==============================] - 2s 162ms/step - loss: 2.3245e-04 - val_loss: 0.0011\n",
      "Epoch 82/100\n",
      "12/12 [==============================] - 2s 168ms/step - loss: 2.0479e-04 - val_loss: 0.0014\n",
      "Epoch 83/100\n",
      "12/12 [==============================] - 2s 160ms/step - loss: 2.0103e-04 - val_loss: 0.0011\n",
      "Epoch 84/100\n",
      "12/12 [==============================] - 2s 152ms/step - loss: 2.1169e-04 - val_loss: 0.0010\n",
      "Epoch 85/100\n",
      "12/12 [==============================] - 2s 151ms/step - loss: 2.0644e-04 - val_loss: 0.0016\n",
      "Epoch 86/100\n",
      "12/12 [==============================] - 2s 157ms/step - loss: 2.2987e-04 - val_loss: 0.0010\n",
      "Epoch 87/100\n",
      "12/12 [==============================] - 2s 172ms/step - loss: 1.9718e-04 - val_loss: 0.0011\n",
      "Epoch 88/100\n",
      "12/12 [==============================] - 2s 163ms/step - loss: 1.9477e-04 - val_loss: 0.0012\n",
      "Epoch 89/100\n",
      "12/12 [==============================] - 2s 161ms/step - loss: 1.9628e-04 - val_loss: 9.6653e-04\n",
      "Epoch 90/100\n",
      "12/12 [==============================] - 2s 157ms/step - loss: 1.7439e-04 - val_loss: 0.0012\n",
      "Epoch 91/100\n",
      "12/12 [==============================] - 2s 161ms/step - loss: 1.8856e-04 - val_loss: 9.9366e-04\n",
      "Epoch 92/100\n",
      "12/12 [==============================] - 2s 159ms/step - loss: 2.5107e-04 - val_loss: 0.0015\n",
      "Epoch 93/100\n",
      "12/12 [==============================] - 2s 156ms/step - loss: 2.1357e-04 - val_loss: 0.0016\n",
      "Epoch 94/100\n",
      "12/12 [==============================] - 2s 152ms/step - loss: 1.7498e-04 - val_loss: 9.8832e-04\n",
      "Epoch 95/100\n",
      "12/12 [==============================] - 2s 150ms/step - loss: 1.7086e-04 - val_loss: 0.0012\n",
      "Epoch 96/100\n",
      "12/12 [==============================] - 2s 159ms/step - loss: 1.7935e-04 - val_loss: 0.0010\n",
      "Epoch 97/100\n",
      "12/12 [==============================] - 2s 176ms/step - loss: 1.7200e-04 - val_loss: 0.0010\n",
      "Epoch 98/100\n",
      "12/12 [==============================] - 2s 180ms/step - loss: 1.8533e-04 - val_loss: 8.4678e-04\n",
      "Epoch 99/100\n",
      "12/12 [==============================] - 2s 178ms/step - loss: 1.8436e-04 - val_loss: 8.3776e-04\n",
      "Epoch 100/100\n",
      "12/12 [==============================] - 2s 169ms/step - loss: 1.6685e-04 - val_loss: 0.0015\n"
     ]
    },
    {
     "data": {
      "text/plain": [
       "<tensorflow.python.keras.callbacks.History at 0x1d41e37e8b0>"
      ]
     },
     "execution_count": 118,
     "metadata": {},
     "output_type": "execute_result"
    }
   ],
   "source": [
    "model.fit(X_train,y_train,validation_data=(X_test,ytest),epochs=100,batch_size=64,verbose=1)"
   ]
  },
  {
   "cell_type": "code",
   "execution_count": 119,
   "metadata": {},
   "outputs": [],
   "source": [
    "import tensorflow as tf"
   ]
  },
  {
   "cell_type": "code",
   "execution_count": 120,
   "metadata": {},
   "outputs": [
    {
     "data": {
      "text/plain": [
       "'2.5.0'"
      ]
     },
     "execution_count": 120,
     "metadata": {},
     "output_type": "execute_result"
    }
   ],
   "source": [
    "tf.__version__"
   ]
  },
  {
   "cell_type": "code",
   "execution_count": 121,
   "metadata": {},
   "outputs": [],
   "source": [
    "### Lets Do the prediction and check performance metrics\n",
    "train_predict=model.predict(X_train)\n",
    "test_predict=model.predict(X_test)"
   ]
  },
  {
   "cell_type": "code",
   "execution_count": 122,
   "metadata": {},
   "outputs": [],
   "source": [
    "##Transformback to original form\n",
    "train_predict=scaler.inverse_transform(train_predict)\n",
    "test_predict=scaler.inverse_transform(test_predict)"
   ]
  },
  {
   "cell_type": "code",
   "execution_count": 123,
   "metadata": {},
   "outputs": [
    {
     "data": {
      "text/plain": [
       "140.09227581710513"
      ]
     },
     "execution_count": 123,
     "metadata": {},
     "output_type": "execute_result"
    }
   ],
   "source": [
    "### Calculate RMSE performance metrics\n",
    "import math\n",
    "from sklearn.metrics import mean_squared_error\n",
    "math.sqrt(mean_squared_error(y_train,train_predict))"
   ]
  },
  {
   "cell_type": "code",
   "execution_count": 124,
   "metadata": {},
   "outputs": [
    {
     "data": {
      "text/plain": [
       "231.9488469784019"
      ]
     },
     "execution_count": 124,
     "metadata": {},
     "output_type": "execute_result"
    }
   ],
   "source": [
    "### Test Data RMSE\n",
    "math.sqrt(mean_squared_error(ytest,test_predict))"
   ]
  },
  {
   "cell_type": "code",
   "execution_count": 125,
   "metadata": {},
   "outputs": [
    {
     "data": {
      "image/png": "[encoded data removed]",
      "text/plain": [
       "<Figure size 432x288 with 1 Axes>"
      ]
     },
     "metadata": {
      "needs_background": "light"
     },
     "output_type": "display_data"
    }
   ],
   "source": [
    "### Plotting \n",
    "# shift train predictions for plotting\n",
    "look_back=100\n",
    "trainPredictPlot = numpy.empty_like(df1)\n",
    "trainPredictPlot[:, :] = np.nan\n",
    "trainPredictPlot[look_back:len(train_predict)+look_back, :] = train_predict\n",
    "# shift test predictions for plotting\n",
    "testPredictPlot = numpy.empty_like(df1)\n",
    "testPredictPlot[:, :] = numpy.nan\n",
    "testPredictPlot[len(train_predict)+(look_back*2)+1:len(df1)-1, :] = test_predict\n",
    "# plot baseline and predictions\n",
    "plt.plot(scaler.inverse_transform(df1))\n",
    "plt.plot(trainPredictPlot)\n",
    "plt.plot(testPredictPlot)\n",
    "plt.show()"
   ]
  },
  {
   "cell_type": "code",
   "execution_count": 126,
   "metadata": {},
   "outputs": [
    {
     "data": {
      "text/plain": [
       "441"
      ]
     },
     "execution_count": 126,
     "metadata": {},
     "output_type": "execute_result"
    }
   ],
   "source": [
    "len(test_data)"
   ]
  },
  {
   "cell_type": "code",
   "execution_count": 127,
   "metadata": {},
   "outputs": [
    {
     "data": {
      "text/plain": [
       "(1, 100)"
      ]
     },
     "execution_count": 127,
     "metadata": {},
     "output_type": "execute_result"
    }
   ],
   "source": [
    "x_input=test_data[341:].reshape(1,-1)\n",
    "x_input.shape\n"
   ]
  },
  {
   "cell_type": "code",
   "execution_count": 79,
   "metadata": {},
   "outputs": [],
   "source": [
    "temp_input=list(x_input)\n",
    "temp_input=temp_input[0].tolist()"
   ]
  },
  {
   "cell_type": "code",
   "execution_count": 83,
   "metadata": {},
   "outputs": [],
   "source": [
    "day_new=np.arange(1,101)\n",
    "day_pred=np.arange(101,131)"
   ]
  },
  {
   "cell_type": "code",
   "execution_count": 84,
   "metadata": {},
   "outputs": [],
   "source": [
    "import matplotlib.pyplot as plt"
   ]
  },
  {
   "cell_type": "code",
   "execution_count": 85,
   "metadata": {},
   "outputs": [
    {
     "data": {
      "text/plain": [
       "1258"
      ]
     },
     "execution_count": 85,
     "metadata": {},
     "output_type": "execute_result"
    }
   ],
   "source": [
    "len(df1)"
   ]
  },
  {
   "cell_type": "code",
   "execution_count": 86,
   "metadata": {},
   "outputs": [
    {
     "data": {
      "text/plain": [
       "[<matplotlib.lines.Line2D at 0x1d41d9c6610>]"
      ]
     },
     "execution_count": 86,
     "metadata": {},
     "output_type": "execute_result"
    },
    {
     "data": {
      "image/png": "[encoded data removed]",
      "text/plain": [
       "<Figure size 432x288 with 1 Axes>"
      ]
     },
     "metadata": {
      "needs_background": "light"
     },
     "output_type": "display_data"
    }
   ],
   "source": [
    "plt.plot(day_new,scaler.inverse_transform(df1[1158:]))\n",
    "plt.plot(day_pred,scaler.inverse_transform(lst_output))"
   ]
  },
  {
   "cell_type": "code",
   "execution_count": 87,
   "metadata": {},
   "outputs": [
    {
     "data": {
      "text/plain": [
       "[<matplotlib.lines.Line2D at 0x1d41d6e4610>]"
      ]
     },
     "execution_count": 87,
     "metadata": {},
     "output_type": "execute_result"
    },
    {
     "data": {
      "image/png": "[encoded data removed]",
      "text/plain": [
       "<Figure size 432x288 with 1 Axes>"
      ]
     },
     "metadata": {
      "needs_background": "light"
     },
     "output_type": "display_data"
    }
   ],
   "source": [
    "df3=df1.tolist()\n",
    "df3.extend(lst_output)\n",
    "plt.plot(df3[1200:])"
   ]
  },
  {
   "cell_type": "code",
   "execution_count": 88,
   "metadata": {},
   "outputs": [],
   "source": [
    "df3=scaler.inverse_transform(df3).tolist()"
   ]
  },
  {
   "cell_type": "code",
   "execution_count": 89,
   "metadata": {},
   "outputs": [
    {
     "data": {
      "text/plain": [
       "[<matplotlib.lines.Line2D at 0x1d41da18c10>]"
      ]
     },
     "execution_count": 89,
     "metadata": {},
     "output_type": "execute_result"
    },
    {
     "data": {
      "image/png": "[encoded data removed]",
      "text/plain": [
       "<Figure size 432x288 with 1 Axes>"
      ]
     },
     "metadata": {
      "needs_background": "light"
     },
     "output_type": "display_data"
    }
   ],
   "source": [
    "plt.plot(df3)"
   ]
  }
 ],
 "metadata": {
  "kernelspec": {
   "display_name": "Python 3",
   "language": "python",
   "name": "python3"
  },
  "language_info": {
   "codemirror_mode": {
    "name": "ipython",
    "version": 3
   },
   "file_extension": ".py",
   "mimetype": "text/x-python",
   "name": "python",
   "nbconvert_exporter": "python",
   "pygments_lexer": "ipython3",
   "version": "3.8.5"
  }
 },
 "nbformat": 4,
 "nbformat_minor": 2
}
